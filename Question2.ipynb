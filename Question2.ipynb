{
 "cells": [
  {
   "cell_type": "code",
   "execution_count": 2,
   "metadata": {
    "collapsed": true
   },
   "outputs": [],
   "source": [
    "import math\n",
    "\n",
    "import numpy as np\n"
   ]
  },
  {
   "cell_type": "code",
   "execution_count": 64,
   "outputs": [],
   "source": [
    "alpha = \"abcdefghijklmnop\"\n",
    "\n",
    "\n",
    "def is_alpha_char(c):\n",
    "    return (c.lower() in alpha)\n",
    "\n",
    "\n",
    "def char_to_num(c):\n",
    "    return alpha.index(c.lower())\n",
    "\n",
    "\n",
    "def num_to_char(x):\n",
    "    return alpha[x % 16]\n",
    "\n",
    "\n",
    "def CaesarEncrypt(k, plaintext):\n",
    "    ciphertext = \"\"\n",
    "    for j in range(len(plaintext)):\n",
    "        p = plaintext[j]\n",
    "        if is_alpha_char(p):\n",
    "            x = (k + char_to_num(p)) % 16\n",
    "            c = num_to_char(x)\n",
    "        else:\n",
    "            c = p\n",
    "        ciphertext += c\n",
    "    return ciphertext\n",
    "\n",
    "\n",
    "def CaesarDecrypt(k, ciphertext):\n",
    "    plaintext = \"\"\n",
    "    for j in range(len(ciphertext)):\n",
    "        c = ciphertext[j]\n",
    "        if is_alpha_char(c):\n",
    "            x = (char_to_num(c) - k) % 16\n",
    "            p = num_to_char(x)\n",
    "        else:\n",
    "            p = c\n",
    "        plaintext += p\n",
    "    return plaintext\n"
   ],
   "metadata": {
    "collapsed": false
   }
  },
  {
   "cell_type": "code",
   "execution_count": 66,
   "outputs": [
    {
     "name": "stdout",
     "output_type": "stream",
     "text": [
      "D\n",
      "G D D 0 A\n",
      "N\n",
      "A N G 11 L\n",
      "I\n",
      "L I A 8 I\n",
      "I\n",
      "L I L 3 D\n",
      "K\n",
      "N K L 1 B\n",
      "D\n",
      "G D N 14 O\n",
      "H\n",
      "K H G 1 B\n",
      "ALIDBOB\n"
     ]
    }
   ],
   "source": [
    "alpha_x = 'ABCDEFGHIJKLMNOP'\n",
    "\n",
    "# for i in alpha:\n",
    "#     print(i, '=', '{0:b}'.format(alpha_x.index(i))..zfill(4))\n",
    "\n",
    "\n",
    "def c(plain, index, old_c, iv=0b0011):\n",
    "    if index == 0:\n",
    "        print('{0:b}'.format(iv).zfill(4))\n",
    "        return iv\n",
    "    else:\n",
    "        xor = alpha_x.index(plain[index].upper()) ^ old_c\n",
    "        cypher_text = CaesarEncrypt(3,alpha_x[xor]).upper()\n",
    "        print('P_{} xor C_{} ='.format(index-1,index-2),\n",
    "              '{0:b}'.format(alpha_x.index(plain[index].upper())).zfill(4),\n",
    "              'xor',\n",
    "              '{0:b}'.format(old_c).zfill(4),\n",
    "              '=',\n",
    "              '{0:b}'.format(xor).zfill(4))\n",
    "        print('{0:b}'.format(alpha_x.index(cypher_text)).zfill(4))\n",
    "        print('Cypher text{} = {}'.format(index-1,cypher_text), '{0:b}'.format(alpha_x.index(cypher_text)).zfill(4))\n",
    "        return alpha_x.index(cypher_text)\n",
    "\n",
    "def d(cypher, index, old_c, iv=0b0011):\n",
    "    if index == 0:\n",
    "        print('{0:b}'.format(iv).zfill(4))\n",
    "        return iv\n",
    "    else:\n",
    "        plain_text = CaesarDecrypt(3,cypher[index]).upper()\n",
    "        print(plain_text)\n",
    "        xor = alpha_x.index(plain_text) ^ alpha_x.index(old_c)\n",
    "        print(cypher[index],plain_text,old_c,xor,alpha_x[xor])\n",
    "        # print('Cypher text{} = {}'.format(index-1,cypher_text), '{0:b}'.format(alpha_x.index(cypher_text)).zfill(4))\n",
    "        return xor\n",
    "\n",
    "\n",
    "def cbc(plain,iv=0b0011):\n",
    "    cypher = ''\n",
    "    old = 0\n",
    "    for i in range(len(plain)):\n",
    "        old = c(plain,i,old,iv)\n",
    "        cypher+=alpha_x[old]\n",
    "    print(cypher)\n",
    "\n",
    "def ctr(plain,iv=0b0011):\n",
    "    cypher = ''\n",
    "    old = 0\n",
    "    for i in range(len(plain)):\n",
    "        old = c(plain,i,iv+i-1,iv+i-1)\n",
    "        cypher+=alpha_x[old]\n",
    "    print(cypher)\n",
    "\n",
    "def cbc_de(cypher,iv=0b0011):\n",
    "    plain = ''\n",
    "    old = 0\n",
    "    for i in range(1,len(cypher)):\n",
    "        old = d(cypher,i,cypher[i-1],iv)\n",
    "        plain+=alpha_x[old]\n",
    "    print(plain)\n",
    "\n",
    "cbc_de('DGALLNGK',0b0011)"
   ],
   "metadata": {
    "collapsed": false
   }
  },
  {
   "cell_type": "code",
   "execution_count": 83,
   "outputs": [
    {
     "ename": "OverflowError",
     "evalue": "math range error",
     "output_type": "error",
     "traceback": [
      "\u001B[1;31m---------------------------------------------------------------------------\u001B[0m",
      "\u001B[1;31mOverflowError\u001B[0m                             Traceback (most recent call last)",
      "\u001B[1;32m~\\AppData\\Local\\Temp\\ipykernel_20632\\3014416792.py\u001B[0m in \u001B[0;36m<module>\u001B[1;34m\u001B[0m\n\u001B[0;32m      1\u001B[0m \u001B[1;32mimport\u001B[0m \u001B[0mmath\u001B[0m\u001B[1;33m\u001B[0m\u001B[1;33m\u001B[0m\u001B[0m\n\u001B[1;32m----> 2\u001B[1;33m \u001B[0mprint\u001B[0m\u001B[1;33m(\u001B[0m\u001B[0mmath\u001B[0m\u001B[1;33m.\u001B[0m\u001B[0mpow\u001B[0m\u001B[1;33m(\u001B[0m\u001B[1;36m41\u001B[0m\u001B[1;33m,\u001B[0m\u001B[1;36m5835\u001B[0m\u001B[1;33m)\u001B[0m \u001B[1;33m%\u001B[0m \u001B[1;36m18865\u001B[0m\u001B[1;33m)\u001B[0m\u001B[1;33m\u001B[0m\u001B[1;33m\u001B[0m\u001B[0m\n\u001B[0m\u001B[0;32m      3\u001B[0m \u001B[1;31m# 74 % 131\u001B[0m\u001B[1;33m\u001B[0m\u001B[1;33m\u001B[0m\u001B[1;33m\u001B[0m\u001B[0m\n",
      "\u001B[1;31mOverflowError\u001B[0m: math range error"
     ]
    }
   ],
   "source": [
    "import math\n",
    "print(math.pow(41,5835) % 18865)\n",
    "# 74 % 131"
   ],
   "metadata": {
    "collapsed": false
   }
  },
  {
   "cell_type": "code",
   "execution_count": 3,
   "outputs": [
    {
     "name": "stdout",
     "output_type": "stream",
     "text": [
      "57703910 = 0 x 928374827 + 57703910\n",
      "928374827 = 16 x 57703910 + 5112267\n",
      "57703910 = 11 x 5112267 + 1468973\n",
      "5112267 = 3 x 1468973 + 705348\n",
      "1468973 = 2 x 705348 + 58277\n",
      "705348 = 12 x 58277 + 6024\n",
      "58277 = 9 x 6024 + 4061\n",
      "6024 = 1 x 4061 + 1963\n",
      "4061 = 2 x 1963 + 135\n",
      "1963 = 14 x 135 + 73\n",
      "135 = 1 x 73 + 62\n",
      "73 = 1 x 62 + 11\n",
      "62 = 5 x 11 + 7\n",
      "11 = 1 x 7 + 4\n",
      "7 = 1 x 4 + 3\n",
      "4 = 1 x 3 + 1\n",
      "3 = 3 x 1 + 0\n",
      "1\n",
      "|928374827|0|1|\n",
      "|57703910|1|0|\n",
      "|5112267|-16|1|\n",
      "|1468973|177|-11|\n",
      "|705348|-547|34|\n",
      "|58277|1271|-79|\n",
      "|6024|-15799|982|\n",
      "|4061|143462|-8917|\n",
      "|1963|-159261|9899|\n",
      "|135|461984|-28715|\n",
      "|73|-6627037|411909|\n",
      "|62|7089021|-440624|\n",
      "|11|-13716058|852533|\n",
      "|7|75669311|-4703289|\n",
      "|4|-89385369|5555822|\n",
      "|3|165054680|-10259111|\n",
      "|1|-254440049|15814933|\n"
     ]
    },
    {
     "data": {
      "text/plain": "673934778"
     },
     "execution_count": 3,
     "metadata": {},
     "output_type": "execute_result"
    }
   ],
   "source": [
    "def gcd(a, b):\n",
    "    if b == 0: return a;\n",
    "    print('{} = {} x {} + {}'.format(a, a // b, b, a % b))\n",
    "    return gcd(b, a % b)\n",
    "def extended_euclid_gcd(a: int, b: int) -> list:\n",
    "    \"\"\"\n",
    "    Returns [gcd(a, b), x, y] where ax + by = gcd(a, b)\n",
    "    \"\"\"\n",
    "    s, old_s = 0, 1\n",
    "    t, old_t = 1, 0\n",
    "    r, old_r = b, a\n",
    "    while r != 0:\n",
    "        quotient = old_r // r\n",
    "        old_r, r = r, old_r - quotient * r\n",
    "        old_s, s = s, old_s - quotient * s\n",
    "        old_t, t = t, old_t - quotient * t\n",
    "        print('|{}|{}|{}|'.format(old_r, old_s, old_t))\n",
    "    return [old_r, old_s, old_t]\n",
    "\n",
    "\n",
    "def modular_multiplicative_inverse(a: int, n: int) -> int:\n",
    "    \"\"\"\n",
    "    Assumes that a and n are co-prime, returns modular multiplicative inverse of a under n\n",
    "    \"\"\"\n",
    "    # Find gcd using Extended Euclid's Algorithm\n",
    "    gcd, x, y = extended_euclid_gcd(a, n)\n",
    "    # In case x is negative, we handle it by adding extra n\n",
    "    # Because we know that modular multiplicative inverse of a in range n lies in the range [0, n-1]\n",
    "    if x < 0:\n",
    "        x += n\n",
    "    return x\n",
    "\n",
    "print(gcd(57703910, 928374827))\n",
    "\n",
    "modular_multiplicative_inverse(57703910, 928374827)\n",
    "\n",
    "# gcd(57703910, 928374827)\n"
   ],
   "metadata": {
    "collapsed": false
   }
  },
  {
   "cell_type": "code",
   "execution_count": 93,
   "outputs": [
    {
     "name": "stdout",
     "output_type": "stream",
     "text": [
      "3104\n"
     ]
    }
   ],
   "source": [
    "\n",
    "def phi(n):\n",
    "    amount = 0\n",
    "    for k in range(1, n + 1):\n",
    "        if math.gcd(n, k) == 1:\n",
    "            amount += 1\n",
    "    return amount\n",
    "\n",
    "\n",
    "if __name__ == '__main__':\n",
    "    print(phi(int(5835)))"
   ],
   "metadata": {
    "collapsed": false
   }
  },
  {
   "cell_type": "code",
   "execution_count": 2,
   "outputs": [
    {
     "data": {
      "text/plain": "524590248695802207736013720559464118829"
     },
     "execution_count": 2,
     "metadata": {},
     "output_type": "execute_result"
    }
   ],
   "source": [
    "a = 280911290932026533024032168439577494125+243678957763775674711981552119886624704\n",
    "a\n"
   ],
   "metadata": {
    "collapsed": false
   }
  },
  {
   "cell_type": "code",
   "execution_count": 3,
   "outputs": [
    {
     "data": {
      "text/plain": "590149353332307931562150684420260094329"
     },
     "execution_count": 3,
     "metadata": {},
     "output_type": "execute_result"
    }
   ],
   "source": [
    "b = 304818230497228868726629382680360532496+285331122835079062835521301739899561833\n",
    "b"
   ],
   "metadata": {
    "collapsed": false
   }
  },
  {
   "cell_type": "code",
   "execution_count": 4,
   "outputs": [
    {
     "data": {
      "text/plain": "588168311835493458225999271738478908564"
     },
     "execution_count": 4,
     "metadata": {},
     "output_type": "execute_result"
    }
   ],
   "source": [
    "c = 318652869683361435130919821755118299097+269515442152132023095079449983360609467\n",
    "c"
   ],
   "metadata": {
    "collapsed": false
   }
  }
 ],
 "metadata": {
  "kernelspec": {
   "display_name": "Python 3",
   "language": "python",
   "name": "python3"
  },
  "language_info": {
   "codemirror_mode": {
    "name": "ipython",
    "version": 2
   },
   "file_extension": ".py",
   "mimetype": "text/x-python",
   "name": "python",
   "nbconvert_exporter": "python",
   "pygments_lexer": "ipython2",
   "version": "2.7.6"
  }
 },
 "nbformat": 4,
 "nbformat_minor": 0
}
