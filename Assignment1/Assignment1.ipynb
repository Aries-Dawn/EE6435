{
 "cells": [
  {
   "cell_type": "code",
   "execution_count": 1,
   "metadata": {
    "collapsed": true,
    "pycharm": {
     "name": "#%%\n"
    }
   },
   "outputs": [],
   "source": [
    "import math"
   ]
  },
  {
   "cell_type": "code",
   "execution_count": 2,
   "outputs": [],
   "source": [
    "## get input vector\n",
    "def input_vector():\n",
    "    arr = input()\n",
    "    num = [int(n) for n in arr.split()]\n",
    "    return num"
   ],
   "metadata": {
    "collapsed": false,
    "pycharm": {
     "name": "#%%\n"
    }
   }
  },
  {
   "cell_type": "code",
   "execution_count": 3,
   "outputs": [],
   "source": [
    "## calculate Euclidean Distance\n",
    "def Euclidean(a,b):\n",
    "    sum = 0.0\n",
    "    for i in range(0, len(a)):\n",
    "        sum += math.pow((a[i] - b[i]),2)\n",
    "\n",
    "    temp = math.pow(sum,0.5)\n",
    "    if -0.00001 < temp-0.0 < 0.00001:\n",
    "        return  0.00\n",
    "    else:\n",
    "        return temp"
   ],
   "metadata": {
    "collapsed": false,
    "pycharm": {
     "name": "#%%\n"
    }
   }
  },
  {
   "cell_type": "code",
   "execution_count": 5,
   "outputs": [
    {
     "name": "stdout",
     "output_type": "stream",
     "text": [
      "x=  [1, 1, 1, 1]\n",
      "y=  [2, 2, 2, 2]\n",
      "Euclidean(x,y) =  2.0\n"
     ]
    }
   ],
   "source": [
    "## test Euclidean distance\n",
    "## input\n",
    "## 1 1 1 1\n",
    "## 2 2 2 2\n",
    "def test_Euclidean_distance():\n",
    "    a = input_vector()\n",
    "    b = input_vector()\n",
    "    print('x= ', a)\n",
    "    print('y= ', b)\n",
    "    print('Euclidean(x,y) = ',Euclidean(a,b))\n",
    "test_Euclidean_distance()"
   ],
   "metadata": {
    "collapsed": false,
    "pycharm": {
     "name": "#%%\n"
    }
   }
  },
  {
   "cell_type": "code",
   "execution_count": 6,
   "outputs": [],
   "source": [
    "## calculate cosine\n",
    "def Cosine(a,b):\n",
    "    dot = 0.0\n",
    "    distance_a = 0.0\n",
    "    distance_b = 0.0\n",
    "    for i in range(len(a)):\n",
    "        dot += a[i]*b[i]\n",
    "        distance_a += a[i] * a[i]\n",
    "        distance_b += b[i] * b[i]\n",
    "    distance_a = math.pow(distance_a,0.5)\n",
    "    distance_b = math.pow(distance_b,0.5)\n",
    "\n",
    "    temp = float(dot)/(distance_a*distance_b)\n",
    "    if -0.00001 < temp-0.0 < 0.00001:\n",
    "        return  0.00\n",
    "    else:\n",
    "        return temp"
   ],
   "metadata": {
    "collapsed": false,
    "pycharm": {
     "name": "#%%\n"
    }
   }
  },
  {
   "cell_type": "code",
   "execution_count": 7,
   "outputs": [
    {
     "name": "stdout",
     "output_type": "stream",
     "text": [
      "x=  [1, 1, 1, 1]\n",
      "y=  [2, 2, 2, 2]\n",
      "cos(x,y) =  1.0\n"
     ]
    }
   ],
   "source": [
    "## test cosine distance\n",
    "## input\n",
    "## 1 1 1 1\n",
    "## 2 2 2 2\n",
    "def test_Cosine_distance():\n",
    "    a = input_vector()\n",
    "    b = input_vector()\n",
    "    print('x= ', a)\n",
    "    print('y= ', b)\n",
    "    print('cos(x,y) = ',Cosine(a,b))\n",
    "test_Cosine_distance()"
   ],
   "metadata": {
    "collapsed": false,
    "pycharm": {
     "name": "#%%\n"
    }
   }
  },
  {
   "cell_type": "code",
   "execution_count": 8,
   "outputs": [],
   "source": [
    "## calculate Jaccard\n",
    "def Jaccard(a,b):\n",
    "    f00 = 0.0\n",
    "    f01 = 0.0\n",
    "    f10 = 0.0\n",
    "    f11 = 0.0\n",
    "    for i in range(len(a)):\n",
    "        if a[i] == 0:\n",
    "            if b[i] == 0:\n",
    "                f00+=1\n",
    "            else:\n",
    "                f01+=1\n",
    "        else:\n",
    "            if b[i] == 0:\n",
    "                f10+=1\n",
    "            else:\n",
    "                f11+=1\n",
    "\n",
    "    temp = float(f11)/(f01+f10+f11)\n",
    "    if -0.00001 < temp-0.0 < 0.00001:\n",
    "        return  0.00\n",
    "    else:\n",
    "        return temp"
   ],
   "metadata": {
    "collapsed": false,
    "pycharm": {
     "name": "#%%\n"
    }
   }
  },
  {
   "cell_type": "code",
   "execution_count": 9,
   "outputs": [
    {
     "name": "stdout",
     "output_type": "stream",
     "text": [
      "x=  [1, 0, 1, 0]\n",
      "y=  [0, 1, 0, 1]\n",
      "Jaccard(x,y) =  0.0\n"
     ]
    }
   ],
   "source": [
    "## test Jaccard distance\n",
    "## input\n",
    "## 1 0 1 0\n",
    "## 0 1 0 1\n",
    "def test_Jaccard_distance():\n",
    "    a = input_vector()\n",
    "    b = input_vector()\n",
    "    print('x= ', a)\n",
    "    print('y= ', b)\n",
    "    print('Jaccard(x,y) = ',Jaccard(a,b))\n",
    "test_Jaccard_distance()"
   ],
   "metadata": {
    "collapsed": false,
    "pycharm": {
     "name": "#%%\n"
    }
   }
  },
  {
   "cell_type": "code",
   "execution_count": 10,
   "outputs": [],
   "source": [
    "# calculate Correlation\n",
    "def Correlation(a,b):\n",
    "    sum_a = 0.0\n",
    "    sum_b = 0.0\n",
    "    for i in range(len(a)):\n",
    "        sum_a += a[i]\n",
    "        sum_b += b[i]\n",
    "    mean_a = float(sum_a)/len(a)\n",
    "    mean_b = float(sum_b)/len(b)\n",
    "    sxy = 0.0\n",
    "    sx = 0.0\n",
    "    sy = 0.0\n",
    "    for i in range(len(a)):\n",
    "        sxy += (a[i]-mean_a)*(b[i]-mean_b)\n",
    "        sx += math.pow(a[i]-mean_a,2)\n",
    "        sy += math.pow(b[i]-mean_b,2)\n",
    "    n = len(a)\n",
    "    sxy = sxy/(n-1)\n",
    "    sx = math.pow(sx/(n-1),0.5)\n",
    "    sy = math.pow(sy/(n-1),0.5)\n",
    "    if -0.00001<= sx*sy-0 <= 0.00001:\n",
    "        return \"%.2f/0.00(undefined)\"%sxy\n",
    "    else:\n",
    "        temp = sxy/(sx*sy)\n",
    "        if -0.00001 < sxy/(sx*sy)-0.0 < 0.00001:\n",
    "            return  0.00\n",
    "        else:\n",
    "            return temp"
   ],
   "metadata": {
    "collapsed": false,
    "pycharm": {
     "name": "#%%\n"
    }
   }
  },
  {
   "cell_type": "code",
   "execution_count": 11,
   "outputs": [
    {
     "name": "stdout",
     "output_type": "stream",
     "text": [
      "x=  [0, 1, 0, 1]\n",
      "y=  [1, 0, 1, 0]\n",
      "corr(x,y) =  -1.0\n"
     ]
    }
   ],
   "source": [
    "## test Correlation distance\n",
    "## input\n",
    "## 0 1 0 1\n",
    "## 1 0 1 0\n",
    "def test_Correlation_distance():\n",
    "    a = input_vector()\n",
    "    b = input_vector()\n",
    "    print('x= ', a)\n",
    "    print('y= ', b)\n",
    "    print('corr(x,y) = ',Correlation(a,b))\n",
    "test_Correlation_distance()"
   ],
   "metadata": {
    "collapsed": false,
    "pycharm": {
     "name": "#%%\n"
    }
   }
  },
  {
   "cell_type": "markdown",
   "source": [
    "## Test with Appendix"
   ],
   "metadata": {
    "collapsed": false,
    "pycharm": {
     "name": "#%% md\n"
    }
   }
  },
  {
   "cell_type": "markdown",
   "source": [
    "### a)"
   ],
   "metadata": {
    "collapsed": false,
    "pycharm": {
     "name": "#%% md\n"
    }
   }
  },
  {
   "cell_type": "code",
   "execution_count": 12,
   "outputs": [
    {
     "name": "stdout",
     "output_type": "stream",
     "text": [
      "x=  [1, 1, 1, 1]\n",
      "y=  [2, 2, 2, 2]\n",
      "cos(x,y) =  1.0\n",
      "corr(x,y) =  0.00/0.00(undefined)\n",
      "Euclidean(x,y) =  2.0\n"
     ]
    }
   ],
   "source": [
    "## input\n",
    "## 1 1 1 1\n",
    "## 2 2 2 2\n",
    "a = input_vector()\n",
    "b = input_vector()\n",
    "print('x= ', a)\n",
    "print('y= ', b)\n",
    "print('cos(x,y) = ',Cosine(a,b))\n",
    "print('corr(x,y) = ',Correlation(a,b))\n",
    "print('Euclidean(x,y) = ',Euclidean(a,b))"
   ],
   "metadata": {
    "collapsed": false,
    "pycharm": {
     "name": "#%%\n"
    }
   }
  },
  {
   "cell_type": "markdown",
   "source": [
    "### b)"
   ],
   "metadata": {
    "collapsed": false,
    "pycharm": {
     "name": "#%% md\n"
    }
   }
  },
  {
   "cell_type": "code",
   "execution_count": 13,
   "outputs": [
    {
     "name": "stdout",
     "output_type": "stream",
     "text": [
      "x=  [1, 0, 1, 0]\n",
      "y=  [0, 1, 0, 1]\n",
      "cos(x,y) =  0.0\n",
      "corr(x,y) =  -1.0\n",
      "Euclidean(x,y) =  2.0\n",
      "Jaccard(x,y) =  0.0\n"
     ]
    }
   ],
   "source": [
    "## input\n",
    "## 1 0 1 0\n",
    "## 0 1 0 1\n",
    "a = input_vector()\n",
    "b = input_vector()\n",
    "print('x= ', a)\n",
    "print('y= ', b)\n",
    "print('cos(x,y) = ',Cosine(a,b))\n",
    "print('corr(x,y) = ',Correlation(a,b))\n",
    "print('Euclidean(x,y) = ',Euclidean(a,b))\n",
    "print('Jaccard(x,y) = ',Jaccard(a,b))"
   ],
   "metadata": {
    "collapsed": false,
    "pycharm": {
     "name": "#%%\n"
    }
   }
  },
  {
   "cell_type": "markdown",
   "source": [
    "### c)"
   ],
   "metadata": {
    "collapsed": false,
    "pycharm": {
     "name": "#%% md\n"
    }
   }
  },
  {
   "cell_type": "code",
   "execution_count": 15,
   "outputs": [
    {
     "name": "stdout",
     "output_type": "stream",
     "text": [
      "x=  [0, -1, 0, 1]\n",
      "y=  [1, 0, -1, 0]\n",
      "cos(x,y) =  0.0\n",
      "corr(x,y) =  0.0\n",
      "Euclidean(x,y) =  2.0\n"
     ]
    }
   ],
   "source": [
    "## input\n",
    "## 0 -1 0 1\n",
    "## 1 0 -1 0\n",
    "a = input_vector()\n",
    "b = input_vector()\n",
    "print('x= ', a)\n",
    "print('y= ', b)\n",
    "print('cos(x,y) = ',Cosine(a,b))\n",
    "print('corr(x,y) = ',Correlation(a,b))\n",
    "print('Euclidean(x,y) = ',Euclidean(a,b))"
   ],
   "metadata": {
    "collapsed": false,
    "pycharm": {
     "name": "#%%\n"
    }
   }
  },
  {
   "cell_type": "markdown",
   "source": [
    "### d)"
   ],
   "metadata": {
    "collapsed": false,
    "pycharm": {
     "name": "#%% md\n"
    }
   }
  },
  {
   "cell_type": "code",
   "execution_count": 16,
   "outputs": [
    {
     "name": "stdout",
     "output_type": "stream",
     "text": [
      "x=  [1, 1, 0, 1, 0, 1]\n",
      "y=  [1, 1, 1, 0, 0, 1]\n",
      "cos(x,y) =  0.75\n",
      "corr(x,y) =  0.25\n",
      "Jaccard(x,y) =  0.6\n"
     ]
    }
   ],
   "source": [
    "## input\n",
    "## 1 1 0 1 0 1\n",
    "## 1 1 1 0 0 1\n",
    "a = input_vector()\n",
    "b = input_vector()\n",
    "print('x= ', a)\n",
    "print('y= ', b)\n",
    "print('cos(x,y) = ',Cosine(a,b))\n",
    "print('corr(x,y) = ',Correlation(a,b))\n",
    "print('Jaccard(x,y) = ',Jaccard(a,b))"
   ],
   "metadata": {
    "collapsed": false,
    "pycharm": {
     "name": "#%%\n"
    }
   }
  },
  {
   "cell_type": "markdown",
   "source": [
    "### e)"
   ],
   "metadata": {
    "collapsed": false,
    "pycharm": {
     "name": "#%% md\n"
    }
   }
  },
  {
   "cell_type": "code",
   "execution_count": 17,
   "outputs": [
    {
     "name": "stdout",
     "output_type": "stream",
     "text": [
      "x=  [2, -1, 0, 2, 0, -3]\n",
      "y=  [-1, 1, -1, 0, 0, -1]\n",
      "cos(x,y) =  0.0\n",
      "corr(x,y) = 0.00\n"
     ]
    }
   ],
   "source": [
    "## input\n",
    "## 2 -1 0 2 0 -3\n",
    "## -1 1 -1 0 0 -1\n",
    "a = input_vector()\n",
    "b = input_vector()\n",
    "print('x= ', a)\n",
    "print('y= ', b)\n",
    "print('cos(x,y) = ',Cosine(a,b))\n",
    "print('corr(x,y) = %.2f'%Correlation(a,b))"
   ],
   "metadata": {
    "collapsed": false,
    "pycharm": {
     "name": "#%%\n"
    }
   }
  },
  {
   "cell_type": "code",
   "execution_count": null,
   "outputs": [],
   "source": [],
   "metadata": {
    "collapsed": false,
    "pycharm": {
     "name": "#%%\n"
    }
   }
  }
 ],
 "metadata": {
  "kernelspec": {
   "display_name": "Python 3",
   "language": "python",
   "name": "python3"
  },
  "language_info": {
   "codemirror_mode": {
    "name": "ipython",
    "version": 2
   },
   "file_extension": ".py",
   "mimetype": "text/x-python",
   "name": "python",
   "nbconvert_exporter": "python",
   "pygments_lexer": "ipython2",
   "version": "2.7.6"
  }
 },
 "nbformat": 4,
 "nbformat_minor": 0
}