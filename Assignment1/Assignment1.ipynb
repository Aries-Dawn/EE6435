{
 "cells": [
  {
   "cell_type": "code",
   "execution_count": 1,
   "metadata": {
    "collapsed": true
   },
   "outputs": [],
   "source": [
    "import math"
   ]
  },
  {
   "cell_type": "code",
   "execution_count": 2,
   "outputs": [],
   "source": [
    "## get input vector\n",
    "def input_vector():\n",
    "    arr = input()\n",
    "    num = [int(n) for n in arr.split()]\n",
    "    return num\n",
    "\n",
    "def _input_vector(arr):\n",
    "    num = [int(n) for n in arr.split()]\n",
    "    return num"
   ],
   "metadata": {
    "collapsed": false
   }
  },
  {
   "cell_type": "code",
   "execution_count": 3,
   "outputs": [],
   "source": [
    "## calculate Euclidean Distance\n",
    "def Euclidean(x, y):\n",
    "    sum_ = 0.0\n",
    "    for i in range(0, len(x)):\n",
    "        sum_ += math.pow((x[i] - y[i]), 2)\n",
    "\n",
    "    temp = math.pow(sum_, 0.5)\n",
    "    if -0.00001 < temp - 0.0 < 0.00001:\n",
    "        return 0.00\n",
    "    else:\n",
    "        return temp"
   ],
   "metadata": {
    "collapsed": false
   }
  },
  {
   "cell_type": "code",
   "execution_count": 4,
   "outputs": [
    {
     "name": "stdout",
     "output_type": "stream",
     "text": [
      "x=  [1, 1, 1, 1]\n",
      "y=  [2, 2, 2, 2]\n",
      "Euclidean(x,y) =  2.0\n"
     ]
    }
   ],
   "source": [
    "## test Euclidean distance\n",
    "## input\n",
    "## 1 1 1 1\n",
    "## 2 2 2 2\n",
    "\n",
    "## For testing convenience, manual input is temporarily replaced by automatic read-in.\n",
    "def test_Euclidean_distance():\n",
    "    x = _input_vector('1 1 1 1')\n",
    "    y = _input_vector('2 2 2 2')\n",
    "    print('x= ', x)\n",
    "    print('y= ', y)\n",
    "    print('Euclidean(x,y) = ', Euclidean(x, y))\n",
    "\n",
    "\n",
    "test_Euclidean_distance()"
   ],
   "metadata": {
    "collapsed": false
   }
  },
  {
   "cell_type": "code",
   "execution_count": 5,
   "outputs": [],
   "source": [
    "## calculate cosine\n",
    "def Cosine(x, y):\n",
    "    dot = 0.0\n",
    "    distance_a = 0.0\n",
    "    distance_b = 0.0\n",
    "    for i in range(len(x)):\n",
    "        dot += x[i] * y[i]\n",
    "        distance_a += x[i] * x[i]\n",
    "        distance_b += y[i] * y[i]\n",
    "    distance_a = math.pow(distance_a, 0.5)\n",
    "    distance_b = math.pow(distance_b, 0.5)\n",
    "\n",
    "    if -0.00001 <= distance_a * distance_b - 0 <= 0.00001:\n",
    "        return \"%.2f/0.00(undefined)\" % dot\n",
    "    else:\n",
    "        temp = float(dot) / (distance_a * distance_b)\n",
    "        if -0.00001 < temp - 0.0 < 0.00001:\n",
    "            return 0.00\n",
    "        else:\n",
    "            return temp"
   ],
   "metadata": {
    "collapsed": false
   }
  },
  {
   "cell_type": "code",
   "execution_count": 6,
   "outputs": [
    {
     "name": "stdout",
     "output_type": "stream",
     "text": [
      "x=  [1, 1, 1, 1]\n",
      "y=  [2, 2, 2, 2]\n",
      "cos(x,y) =  1.0\n"
     ]
    }
   ],
   "source": [
    "## test cosine distance\n",
    "## input\n",
    "## 1 1 1 1\n",
    "## 2 2 2 2\n",
    "\n",
    "## For testing convenience, manual input is temporarily replaced by automatic read-in.\n",
    "def test_Cosine_distance():\n",
    "    x = _input_vector('1 1 1 1')\n",
    "    y = _input_vector('2 2 2 2')\n",
    "    print('x= ', x)\n",
    "    print('y= ', y)\n",
    "    print('cos(x,y) = ', Cosine(x, y))\n",
    "\n",
    "\n",
    "test_Cosine_distance()"
   ],
   "metadata": {
    "collapsed": false
   }
  },
  {
   "cell_type": "code",
   "execution_count": 7,
   "outputs": [],
   "source": [
    "def test_vaild(arr):\n",
    "    for i in arr:\n",
    "        if i == 0 or i == 1: return True\n",
    "    return False"
   ],
   "metadata": {
    "collapsed": false
   }
  },
  {
   "cell_type": "code",
   "execution_count": 8,
   "outputs": [],
   "source": [
    "## calculate Jaccard\n",
    "def Jaccard(x, y):\n",
    "    if not (test_vaild(x) and test_vaild(y)):\n",
    "        return 'undefined'\n",
    "    f00 = 0.0\n",
    "    f01 = 0.0\n",
    "    f10 = 0.0\n",
    "    f11 = 0.0\n",
    "    for i in range(len(x)):\n",
    "        if x[i] == 0:\n",
    "            if y[i] == 0:\n",
    "                f00 += 1\n",
    "            else:\n",
    "                f01 += 1\n",
    "        else:\n",
    "            if y[i] == 0:\n",
    "                f10 += 1\n",
    "            else:\n",
    "                f11 += 1\n",
    "\n",
    "    if -0.00001 <= f01 + f10 + f11 - 0 <= 0.00001:\n",
    "        return \"%.2f/0.00(undefined)\" % f11\n",
    "    else:\n",
    "        temp = float(f11) / (f01 + f10 + f11)\n",
    "        if -0.00001 < temp - 0.0 < 0.00001:\n",
    "            return 0.00\n",
    "        else:\n",
    "            return temp"
   ],
   "metadata": {
    "collapsed": false
   }
  },
  {
   "cell_type": "code",
   "execution_count": 9,
   "outputs": [
    {
     "name": "stdout",
     "output_type": "stream",
     "text": [
      "x=  [1, 0, 1, 0]\n",
      "y=  [0, 1, 0, 1]\n",
      "Jaccard(x,y) =  0.0\n"
     ]
    }
   ],
   "source": [
    "## test Jaccard distance\n",
    "## input\n",
    "## 1 0 1 0\n",
    "## 0 1 0 1\n",
    "\n",
    "## For testing convenience, manual input is temporarily replaced by automatic read-in.\n",
    "def test_Jaccard_distance():\n",
    "    x = _input_vector('1 0 1 0')\n",
    "    y = _input_vector('0 1 0 1')\n",
    "    print('x= ', x)\n",
    "    print('y= ', y)\n",
    "    print('Jaccard(x,y) = ', Jaccard(x, y))\n",
    "\n",
    "\n",
    "test_Jaccard_distance()"
   ],
   "metadata": {
    "collapsed": false
   }
  },
  {
   "cell_type": "code",
   "execution_count": 10,
   "outputs": [],
   "source": [
    "# calculate Correlation\n",
    "def Correlation(x, y):\n",
    "    sum_a = 0.0\n",
    "    sum_b = 0.0\n",
    "    for i in range(len(x)):\n",
    "        sum_a += x[i]\n",
    "        sum_b += y[i]\n",
    "    mean_a = float(sum_a) / len(x)\n",
    "    mean_b = float(sum_b) / len(y)\n",
    "    sxy = 0.0\n",
    "    sx = 0.0\n",
    "    sy = 0.0\n",
    "    for i in range(len(x)):\n",
    "        sxy += (x[i] - mean_a) * (y[i] - mean_b)\n",
    "        sx += math.pow(x[i] - mean_a, 2)\n",
    "        sy += math.pow(y[i] - mean_b, 2)\n",
    "    n = len(x)\n",
    "    sxy = sxy / (n - 1)\n",
    "    sx = math.pow(sx / (n - 1), 0.5)\n",
    "    sy = math.pow(sy / (n - 1), 0.5)\n",
    "    if -0.00001 <= sx * sy - 0 <= 0.00001:\n",
    "        return \"%.2f/0.00(undefined)\" % sxy\n",
    "    else:\n",
    "        temp = sxy / (sx * sy)\n",
    "        if -0.00001 < sxy / (sx * sy) - 0.0 < 0.00001:\n",
    "            return 0.00\n",
    "        else:\n",
    "            return temp"
   ],
   "metadata": {
    "collapsed": false
   }
  },
  {
   "cell_type": "code",
   "execution_count": 11,
   "outputs": [
    {
     "name": "stdout",
     "output_type": "stream",
     "text": [
      "x=  [0, 1, 0, 1]\n",
      "y=  [1, 0, 1, 0]\n",
      "corr(x,y) =  -1.0\n"
     ]
    }
   ],
   "source": [
    "## test Correlation distance\n",
    "## input\n",
    "## 0 1 0 1\n",
    "## 1 0 1 0\n",
    "\n",
    "## For testing convenience, manual input is temporarily replaced by automatic read-in.\n",
    "def test_Correlation_distance():\n",
    "    x = _input_vector('0 1 0 1')\n",
    "    y = _input_vector('1 0 1 0')\n",
    "    print('x= ', x)\n",
    "    print('y= ', y)\n",
    "    print('corr(x,y) = ', Correlation(x, y))\n",
    "\n",
    "\n",
    "test_Correlation_distance()"
   ],
   "metadata": {
    "collapsed": false
   }
  },
  {
   "cell_type": "markdown",
   "source": [
    "## Test with Appendix"
   ],
   "metadata": {
    "collapsed": false
   }
  },
  {
   "cell_type": "markdown",
   "source": [
    "### a)"
   ],
   "metadata": {
    "collapsed": false
   }
  },
  {
   "cell_type": "code",
   "execution_count": 12,
   "outputs": [
    {
     "name": "stdout",
     "output_type": "stream",
     "text": [
      "x=  [1, 1, 1, 1]\n",
      "y=  [2, 2, 2, 2]\n",
      "cos(x,y) =  1.0\n",
      "corr(x,y) =  0.00/0.00(undefined)\n",
      "Euclidean(x,y) =  2.0\n"
     ]
    }
   ],
   "source": [
    "## input\n",
    "## 1 1 1 1\n",
    "## 2 2 2 2\n",
    "\n",
    "## For testing convenience, manual input is temporarily replaced by automatic read-in.\n",
    "a = _input_vector('1 1 1 1')\n",
    "b = _input_vector('2 2 2 2')\n",
    "\n",
    "## If you need to test manual input, comment out the top two lines and use the bottom two lines of code.\n",
    "# a = input_vector()\n",
    "# b = input_vector()\n",
    "print('x= ', a)\n",
    "print('y= ', b)\n",
    "print('cos(x,y) = ', Cosine(a, b))\n",
    "print('corr(x,y) = ', Correlation(a, b))\n",
    "print('Euclidean(x,y) = ', Euclidean(a, b))"
   ],
   "metadata": {
    "collapsed": false
   }
  },
  {
   "cell_type": "markdown",
   "source": [
    "### b)"
   ],
   "metadata": {
    "collapsed": false
   }
  },
  {
   "cell_type": "code",
   "execution_count": 13,
   "outputs": [
    {
     "name": "stdout",
     "output_type": "stream",
     "text": [
      "x=  [1, 0, 1, 0]\n",
      "y=  [0, 1, 0, 1]\n",
      "cos(x,y) =  0.0\n",
      "corr(x,y) =  -1.0\n",
      "Euclidean(x,y) =  2.0\n",
      "Jaccard(x,y) =  0.0\n"
     ]
    }
   ],
   "source": [
    "## input\n",
    "## 1 0 1 0\n",
    "## 0 1 0 1\n",
    "\n",
    "## For testing convenience, manual input is temporarily replaced by automatic read-in.\n",
    "a = _input_vector('1 0 1 0')\n",
    "b = _input_vector('0 1 0 1')\n",
    "\n",
    "## If you need to test manual input, comment out the top two lines and use the bottom two lines of code.\n",
    "# a = input_vector()\n",
    "# b = input_vector()\n",
    "print('x= ', a)\n",
    "print('y= ', b)\n",
    "print('cos(x,y) = ', Cosine(a, b))\n",
    "print('corr(x,y) = ', Correlation(a, b))\n",
    "print('Euclidean(x,y) = ', Euclidean(a, b))\n",
    "print('Jaccard(x,y) = ', Jaccard(a, b))"
   ],
   "metadata": {
    "collapsed": false
   }
  },
  {
   "cell_type": "markdown",
   "source": [
    "### c)"
   ],
   "metadata": {
    "collapsed": false
   }
  },
  {
   "cell_type": "code",
   "execution_count": 14,
   "outputs": [
    {
     "name": "stdout",
     "output_type": "stream",
     "text": [
      "x=  [0, -1, 0, 1]\n",
      "y=  [1, 0, -1, 0]\n",
      "cos(x,y) =  0.0\n",
      "corr(x,y) =  0.0\n",
      "Euclidean(x,y) =  2.0\n"
     ]
    }
   ],
   "source": [
    "## input\n",
    "## 0 -1 0 1\n",
    "## 1 0 -1 0\n",
    "\n",
    "## For testing convenience, manual input is temporarily replaced by automatic read-in.\n",
    "a = _input_vector('0 -1 0 1')\n",
    "b = _input_vector('1 0 -1 0')\n",
    "\n",
    "## If you need to test manual input, comment out the top two lines and use the bottom two lines of code.\n",
    "# a = input_vector()\n",
    "# b = input_vector()\n",
    "print('x= ', a)\n",
    "print('y= ', b)\n",
    "print('cos(x,y) = ', Cosine(a, b))\n",
    "print('corr(x,y) = ', Correlation(a, b))\n",
    "print('Euclidean(x,y) = ', Euclidean(a, b))"
   ],
   "metadata": {
    "collapsed": false
   }
  },
  {
   "cell_type": "markdown",
   "source": [
    "### d)"
   ],
   "metadata": {
    "collapsed": false
   }
  },
  {
   "cell_type": "code",
   "execution_count": 15,
   "outputs": [
    {
     "name": "stdout",
     "output_type": "stream",
     "text": [
      "x=  [1, 1, 0, 1, 0, 1]\n",
      "y=  [1, 1, 1, 0, 0, 1]\n",
      "cos(x,y) =  0.75\n",
      "corr(x,y) =  0.25\n",
      "Jaccard(x,y) =  0.6\n"
     ]
    }
   ],
   "source": [
    "## input\n",
    "## 1 1 0 1 0 1\n",
    "## 1 1 1 0 0 1\n",
    "\n",
    "## For testing convenience, manual input is temporarily replaced by automatic read-in.\n",
    "a = _input_vector('1 1 0 1 0 1')\n",
    "b = _input_vector('1 1 1 0 0 1')\n",
    "\n",
    "## If you need to test manual input, comment out the top two lines and use the bottom two lines of code.\n",
    "# a = input_vector()\n",
    "# b = input_vector()\n",
    "print('x= ', a)\n",
    "print('y= ', b)\n",
    "print('cos(x,y) = ', Cosine(a, b))\n",
    "print('corr(x,y) = ', Correlation(a, b))\n",
    "print('Jaccard(x,y) = ', Jaccard(a, b))"
   ],
   "metadata": {
    "collapsed": false
   }
  },
  {
   "cell_type": "markdown",
   "source": [
    "### e)"
   ],
   "metadata": {
    "collapsed": false
   }
  },
  {
   "cell_type": "code",
   "execution_count": 16,
   "outputs": [
    {
     "name": "stdout",
     "output_type": "stream",
     "text": [
      "x=  [2, -1, 0, 2, 0, -3]\n",
      "y=  [-1, 1, -1, 0, 0, -1]\n",
      "cos(x,y) =  0.0\n",
      "corr(x,y) = 0.00\n"
     ]
    }
   ],
   "source": [
    "## input\n",
    "## 2 -1 0 2 0 -3\n",
    "## -1 1 -1 0 0 -1\n",
    "\n",
    "## For testing convenience, manual input is temporarily replaced by automatic read-in.\n",
    "a = _input_vector('2 -1 0 2 0 -3')\n",
    "b = _input_vector('-1 1 -1 0 0 -1')\n",
    "\n",
    "## If you need to test manual input, comment out the top two lines and use the bottom two lines of code.\n",
    "# a = input_vector()\n",
    "# b = input_vector()\n",
    "print('x= ', a)\n",
    "print('y= ', b)\n",
    "print('cos(x,y) = ', Cosine(a, b))\n",
    "print('corr(x,y) = %.2f' % Correlation(a, b))"
   ],
   "metadata": {
    "collapsed": false
   }
  },
  {
   "cell_type": "code",
   "execution_count": 16,
   "outputs": [],
   "source": [],
   "metadata": {
    "collapsed": false
   }
  }
 ],
 "metadata": {
  "kernelspec": {
   "display_name": "Python 3",
   "language": "python",
   "name": "python3"
  },
  "language_info": {
   "codemirror_mode": {
    "name": "ipython",
    "version": 2
   },
   "file_extension": ".py",
   "mimetype": "text/x-python",
   "name": "python",
   "nbconvert_exporter": "python",
   "pygments_lexer": "ipython2",
   "version": "2.7.6"
  }
 },
 "nbformat": 4,
 "nbformat_minor": 0
}
